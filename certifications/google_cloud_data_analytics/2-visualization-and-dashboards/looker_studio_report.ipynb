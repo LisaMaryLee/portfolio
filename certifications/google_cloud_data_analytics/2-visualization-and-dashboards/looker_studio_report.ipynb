{
  "cells": [
    {
      "cell_type": "markdown",
      "metadata": {},
      "source": [
        "# \ud83d\udcca Create a Report in Looker Studio",
        "",
        "This lab demonstrates how to create a dynamic marketing performance report using Looker Studio and GA4 data hosted in BigQuery. You will build visualizations and scorecards that help marketing teams better understand traffic sources, user behavior, and campaign performance.",
        "",
        "---",
        "",
        "## \ud83e\udde9 Key Objectives",
        "",
        "- Connect Looker Studio to BigQuery",
        "- Build a bar chart for browser usage",
        "- Create a scorecard for unique visitors",
        "- Visualize campaign activity using time series",
        "- Display global visitor distribution in a table",
        "- Apply filters and formatting for interactivity",
        "",
        "---",
        "",
        "## \ud83d\udcc1 Report Structure",
        "",
        "### 1. Browser Usage (Bar Chart)",
        "- **Dimension**: `device.browser`",
        "- **Metric**: `COUNT_DISTINCT(fullVisitorId)` as `Total Visitors`",
        "- **Top 5 Browsers**",
        "",
        "### 2. Total Visitors (Scorecard)",
        "- Metric: `COUNT_DISTINCT(fullVisitorId)`",
        "",
        "### 3. Jazzy July Campaign (Time Series)",
        "- Dimension: `date`",
        "- Metric: `COUNT_DISTINCT(hits.item.transactionId)`",
        "- Date Range: July 1\u201314, 2017",
        "",
        "### 4. Visitor Location (Table)",
        "- Dimension: `geoNetwork.country`",
        "- Metric: `totals.pageviews`",
        "- Filter: Starts with `\"br\"` (Brazil)",
        "",
        "---",
        "",
        "## \ud83d\udccd Notes",
        "",
        "- **Metrics vs. Dimensions**: Metrics are numerical values, while dimensions categorize.",
        "- **Custom Fields**: Use `Add a field` for `Total Visitors` and `Number of Transactions`.",
        "- **Filters**: Use Advanced Filters for interactivity.",
        "",
        "---",
        "",
        "## \ud83d\udc69\u200d\ud83d\udcbb Created By",
        "**Lisa Mary Lee**  ",
        "\ud83d\udceb lisamarylee@gmail.com  ",
        "\ud83d\udd17 [LinkedIn](https://www.linkedin.com/in/lisamarylee)"
      ]
    }
  ],
  "metadata": {
    "kernelspec": {
      "display_name": "Python 3",
      "language": "python",
      "name": "python3"
    },
    "language_info": {
      "name": "python"
    }
  },
  "nbformat": 4,
  "nbformat_minor": 5
}