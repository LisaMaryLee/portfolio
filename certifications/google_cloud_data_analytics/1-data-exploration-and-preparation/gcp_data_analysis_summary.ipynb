{
 "cells": [
  {
   "cell_type": "markdown",
   "id": "14842018",
   "metadata": {},
   "source": [
    "## 📄 Summary: Flat vs. Nested Data Types in BigQuery  \n",
    "**Project:** `gcp_data_analysis.ipynb`  \n",
    "**Role:** Cloud Data Analyst, TheLook eCommerce  \n",
    "\n",
    "As a cloud data analyst for a global retail company, I worked through a hands-on BigQuery project analyzing structured and semi-structured datasets. This notebook focuses on understanding and applying **flat** (e.g., `STRING`, `INTEGER`, `FLOAT`) and **nested** (`RECORD`, `REPEATED`) data types in real-world querying scenarios.\n",
    "\n",
    "---\n",
    "\n",
    "### 🔍 Objectives\n",
    "- Troubleshoot a failing query by analyzing data types.\n",
    "- Explore **flat** data types to summarize `total_sales` across countries and years.\n",
    "- Investigate **nested** and **repeated** fields (e.g., `geo`, `items`) in Google Analytics events.\n",
    "- Use **dot notation** and **UNNEST()** to flatten complex fields.\n",
    "- Help identify lack of product visibility (Google Dino Game Tee) in the Singapore market.\n",
    "\n",
    "---\n",
    "\n",
    "### 🧠 Key Skills Demonstrated\n",
    "- SQL type casting (`CAST()`), aggregation, and error handling\n",
    "- BigQuery schema inspection and mode understanding (`NULLABLE`, `REPEATED`)\n",
    "- Filtering nested fields using dot notation (`geo.country`)\n",
    "- Flattening nested arrays using `UNNEST()` to access fields like `items.item_name`\n",
    "\n",
    "---\n",
    "\n",
    "### 🛠️ Techniques Used\n",
    "- Repaired an error involving `SUM(STRING)` by casting to `NUMERIC`\n",
    "- Used `GROUP BY` and `ORDER BY` to summarize annual sales by country\n",
    "- Identified underperformance of a product by filtering nested event data\n",
    "- Flattened a `REPEATED RECORD` using `UNNEST()` and filtered for `\"Google Dino Game Tee\"`\n",
    "\n",
    "---\n",
    "\n",
    "### 📊 Insight Delivered\n",
    "Only **3** views of the **Google Dino Game Tee** were recorded in Singapore in 2021, highlighting a potential failure in marketing visibility. This insight directly informed the business's next steps in evaluating campaign effectiveness.\n"
   ]
  }
 ],
 "metadata": {},
 "nbformat": 4,
 "nbformat_minor": 5
}
