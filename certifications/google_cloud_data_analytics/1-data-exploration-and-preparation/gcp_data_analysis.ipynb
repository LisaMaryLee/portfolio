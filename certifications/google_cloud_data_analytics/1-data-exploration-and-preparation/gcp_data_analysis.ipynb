# Jupyter notebook placeholder

Use BigQuery client to analyze data